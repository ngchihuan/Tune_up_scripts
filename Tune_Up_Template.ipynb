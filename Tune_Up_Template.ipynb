{
 "cells": [
  {
   "cell_type": "markdown",
   "metadata": {},
   "source": [
    "# Tune-up Template "
   ]
  },
  {
   "cell_type": "markdown",
   "metadata": {},
   "source": [
    "## 0. Chip Layout, Wiring, and Fabrication \n",
    "\n",
    "### 0.1 Chip layout\n",
    "\n",
    "Put your chip layout here\n",
    "\n",
    "### 0.2 Wiring\n",
    "\n",
    "Describe your wiring here"
   ]
  },
  {
   "cell_type": "markdown",
   "metadata": {},
   "source": [
    "### 0.3 Fabrication Parameters\n",
    "\n",
    "You might know something about your qubits from fabrication, you can put those here before you start:\n",
    "\n",
    "|                  | QB1               | QB2          | QB3               | QB4               | QB5          | QB6               |\n",
    "|------------------|-------------------|--------------|-------------------|-------------------|--------------|-------------------|\n",
    "| Upper Sweet Spot |  |  |  |  |  |  |\n",
    "| Lower Sweet Spot |  |  |  |  |  |  |\n",
    "| Resonator        | 7.0G              | 7.2G         | 7.4G              | 7.1G              | 7.3G         | 7.5G              |"
   ]
  },
  {
   "cell_type": "markdown",
   "metadata": {},
   "source": [
    "## 1. Imports"
   ]
  },
  {
   "cell_type": "code",
   "execution_count": null,
   "metadata": {},
   "outputs": [],
   "source": [
    "# convenience Import for all LabOne Q Functionality\n",
    "from laboneq.simple import *\n",
    "\n",
    "# plotting and fitting functionality\n",
    "from laboneq.contrib.example_helpers.data_analysis.data_analysis import (\n",
    "    func_invLorentz,\n",
    "    func_osc,\n",
    "    fit_Spec,\n",
    "    fit_Rabi,\n",
    "    func_decayOsc,\n",
    "    fit_Ramsey,\n",
    ")\n",
    "from laboneq.contrib.example_helpers.plotting.plot_helpers import (\n",
    "    plot_simulation,\n",
    "    plot_results,\n",
    ")\n",
    "\n",
    "# descriptor imports\n",
    "from laboneq.contrib.example_helpers.generate_descriptor import generate_descriptor\n",
    "\n",
    "# for saving results and pulse sheets\n",
    "from pathlib import Path\n",
    "import datetime\n",
    "import time\n",
    "import scipy\n",
    "import json\n",
    "import yaml\n",
    "from ruamel.yaml import YAML\n",
    "\n",
    "import matplotlib.pyplot as plt\n",
    "import numpy as np\n",
    "\n",
    "from helpers.tuneup_helper import (\n",
    "    flatten,\n",
    "    rotate_to_real_axis,\n",
    "    calc_readout_weight,\n",
    "    evaluate_rabi,\n",
    "    evaluate_ramsey,\n",
    "    evaluate_T1,\n",
    "    analyze_ACStark,\n",
    "    analyze_qspec,\n",
    "    create_x180,\n",
    "    create_x180_ef,\n",
    "    create_x90,\n",
    "    create_x90_ef,\n",
    "    update_qubit_parameters_and_calibration,\n",
    "    load_qubit_parameters,\n",
    "    create_transmon,\n",
    "    save_results,\n",
    ")\n",
    "\n",
    "from helpers.experiment_library import (\n",
    "    resonator_spectroscopy_parallel_CW_full_range,\n",
    "    resonator_spectroscopy_single,\n",
    "    pulsed_resonator_spectroscopy_single,\n",
    "    qubit_spectroscopy_parallel,\n",
    "    qubit_spectroscopy_single,\n",
    "    res_spectroscopy_pulsed_amp_sweep,\n",
    "    amplitude_rabi_parallel,\n",
    "    ramsey_parallel,\n",
    "    t1_parallel,\n",
    "    ecr_amplitude_sweep,\n",
    ")\n",
    "\n",
    "import logging"
   ]
  },
  {
   "cell_type": "markdown",
   "metadata": {},
   "source": [
    "## 2. Set-up"
   ]
  },
  {
   "cell_type": "code",
   "execution_count": null,
   "metadata": {},
   "outputs": [],
   "source": [
    "# Initial functions and definiions\n",
    "ryaml = YAML()"
   ]
  },
  {
   "cell_type": "markdown",
   "metadata": {},
   "source": [
    "### Emulation Mode"
   ]
  },
  {
   "cell_type": "code",
   "execution_count": null,
   "metadata": {},
   "outputs": [],
   "source": [
    "emulate = True"
   ]
  },
  {
   "cell_type": "markdown",
   "metadata": {},
   "source": [
    "\n",
    "### Database Set-up"
   ]
  },
  {
   "cell_type": "code",
   "execution_count": null,
   "metadata": {},
   "outputs": [],
   "source": [
    "# set up connection to database\n",
    "demo_setup_db = DataStore(\"laboneq_data/setup_database.db\")\n",
    "\n",
    "demo_results_db = DataStore(\"laboneq_data/results_database.db\")\n",
    "\n",
    "# check if data is already stored in database\n",
    "for key in demo_setup_db.keys():\n",
    "    print(key)"
   ]
  },
  {
   "cell_type": "markdown",
   "metadata": {},
   "source": [
    "### Device Set-up"
   ]
  },
  {
   "cell_type": "code",
   "execution_count": null,
   "metadata": {},
   "outputs": [],
   "source": [
    "test_descriptor = generate_descriptor(\n",
    "    shfqc_6=[\"DEV1210X\"],\n",
    "    number_data_qubits=6,\n",
    "    number_flux_lines=0,\n",
    "    multiplex=True,\n",
    "    number_multiplex=6,\n",
    "    save=True,\n",
    "    filename=\"test_descriptor\",\n",
    ")"
   ]
  },
  {
   "cell_type": "code",
   "execution_count": null,
   "metadata": {},
   "outputs": [],
   "source": [
    "descriptor_file = open(\"./Descriptors/test_descriptor.yaml\").read()\n",
    "descriptor = ryaml.load(descriptor_file)"
   ]
  },
  {
   "cell_type": "code",
   "execution_count": null,
   "metadata": {},
   "outputs": [],
   "source": [
    "# define the DeviceSetup from descriptor - additionally include information on the dataserver used to connect to the instruments\n",
    "demo_setup = DeviceSetup.from_yaml(\n",
    "    filepath=\"./Descriptors/test_descriptor.yaml\",\n",
    "    server_host=\"ip_address\",\n",
    "    server_port=\"8004\",\n",
    "    setup_name=\"test\",\n",
    ")"
   ]
  },
  {
   "cell_type": "markdown",
   "metadata": {},
   "source": [
    "### Apply Calibration from File"
   ]
  },
  {
   "cell_type": "code",
   "execution_count": null,
   "metadata": {},
   "outputs": [],
   "source": [
    "qubit_parameters = load_qubit_parameters()\n",
    "\n",
    "qubit_parameters[\"local_oscillators\"][\"readout_lo\"][\"value\"] = 7.0e9\n",
    "\n",
    "transmon_list = update_qubit_parameters_and_calibration(\n",
    "    qubit_parameters, demo_setup, demo_setup_db\n",
    ")\n",
    "# print(demo_setup.get_calibration())"
   ]
  },
  {
   "cell_type": "code",
   "execution_count": null,
   "metadata": {},
   "outputs": [],
   "source": [
    "transmon_list"
   ]
  },
  {
   "cell_type": "markdown",
   "metadata": {},
   "source": [
    "### Create and Connect to a QCCS Session \n",
    "\n",
    "Establishes the connection to the instruments and readies them for experiments"
   ]
  },
  {
   "cell_type": "code",
   "execution_count": null,
   "metadata": {},
   "outputs": [],
   "source": [
    "# create and connect to a session\n",
    "session = Session(device_setup=demo_setup)\n",
    "session.connect(do_emulation=emulate)"
   ]
  },
  {
   "cell_type": "markdown",
   "metadata": {},
   "source": [
    "## Pulses for Experiments"
   ]
  },
  {
   "cell_type": "code",
   "execution_count": null,
   "metadata": {},
   "outputs": [],
   "source": [
    "for transmon in transmon_list:\n",
    "    print(transmon.parameters.user_defined)"
   ]
  },
  {
   "cell_type": "code",
   "execution_count": null,
   "metadata": {},
   "outputs": [],
   "source": [
    "def qubit_drive_pulse(qubit):\n",
    "    return pulse_library.drag(\n",
    "        uid=f\"drag_pulse_{qubit.uid}\",\n",
    "        length=qubit.parameters.user_defined[\"pulse_length\"],\n",
    "        amplitude=qubit.parameters.user_defined[\"amplitude_pi\"],\n",
    "        sigma=0.3,\n",
    "        beta=0.2,\n",
    "    )"
   ]
  },
  {
   "cell_type": "code",
   "execution_count": null,
   "metadata": {},
   "outputs": [],
   "source": [
    "def create_amp_sweep(id, start_amp, stop_amp, num_points):\n",
    "    return LinearSweepParameter(\n",
    "        uid=f\"amp_sweep_{id}\",\n",
    "        start=start_amp,\n",
    "        stop=stop_amp,\n",
    "        count=num_points,\n",
    "    )"
   ]
  },
  {
   "cell_type": "code",
   "execution_count": null,
   "metadata": {},
   "outputs": [],
   "source": [
    "def readout_gauss_square_pulse(qubit):\n",
    "    return pulse_library.gaussian_square(\n",
    "        uid=f\"readout_pulse_{qubit.uid}\",\n",
    "        length=qubit.parameters.user_defined[\"readout_length\"],\n",
    "        amplitude=qubit.parameters.user_defined[\"readout_amplitude\"],\n",
    "    )"
   ]
  },
  {
   "cell_type": "code",
   "execution_count": null,
   "metadata": {},
   "outputs": [],
   "source": [
    "def integration_kernel(qubit):\n",
    "    return pulse_library.const(\n",
    "        uid=f\"integration_kernel_{qubit.uid}\",\n",
    "        length=qubit.parameters.user_defined[\"readout_length\"],\n",
    "        amplitude=1,\n",
    "    )"
   ]
  },
  {
   "cell_type": "markdown",
   "metadata": {},
   "source": [
    "## CW Spectroscopy"
   ]
  },
  {
   "cell_type": "code",
   "execution_count": null,
   "metadata": {},
   "outputs": [],
   "source": [
    "# define sweep parameter\n",
    "def create_freq_sweep(\n",
    "    id, start_freq, stop_freq, num_points, axis_name=\"Frequency [Hz]\"\n",
    "):\n",
    "    return LinearSweepParameter(\n",
    "        uid=f\"frequency_sweep_{id}\",\n",
    "        start=start_freq,\n",
    "        stop=stop_freq,\n",
    "        count=num_points,\n",
    "        axis_name=axis_name,\n",
    "    )"
   ]
  },
  {
   "cell_type": "code",
   "execution_count": null,
   "metadata": {},
   "outputs": [],
   "source": [
    "cw_spectroscopy_exp = resonator_spectroscopy_parallel_CW_full_range(\n",
    "    transmon_list[::6],\n",
    "    create_freq_sweep(\"outer\", 1e9, 8e9, 8),\n",
    "    create_freq_sweep(\"inner\", -500e6, 500e6, 1001),\n",
    ")\n",
    "\n",
    "compiled_cw_spectroscopy_exp = session.compile(cw_spectroscopy_exp)\n",
    "cw_spectroscopy_results = session.run(compiled_cw_spectroscopy_exp)"
   ]
  },
  {
   "cell_type": "code",
   "execution_count": null,
   "metadata": {},
   "outputs": [],
   "source": [
    "# access and plot results of one 8GHz sweep\n",
    "full_data = abs(cw_spectroscopy_results.get_data(\"resonator_spectroscopy_q0\"))\n",
    "\n",
    "outer = cw_spectroscopy_results.get_axis(\"resonator_spectroscopy_q0\")[0]\n",
    "inner = cw_spectroscopy_results.get_axis(\"resonator_spectroscopy_q0\")[1]\n",
    "full_sweep = np.array(flatten([out + inner for out in outer]))\n",
    "\n",
    "plt.plot(full_sweep, np.array(flatten([data for data in full_data])))"
   ]
  },
  {
   "cell_type": "code",
   "execution_count": null,
   "metadata": {},
   "outputs": [],
   "source": [
    "save_results(demo_results_db, cw_spectroscopy_results, \"cw_spec_results\", \"full_sweep\")"
   ]
  },
  {
   "cell_type": "code",
   "execution_count": null,
   "metadata": {},
   "outputs": [],
   "source": [
    "single_cw = resonator_spectroscopy_single(\n",
    "    transmon_list[0],\n",
    "    create_freq_sweep(f\"{transmon_list[0].uid}_sweep\", 0, 100e6, 1000),\n",
    "    measure_range=-10,\n",
    "    acquire_range=-10,\n",
    "    # set_lo=True,\n",
    "    # lo_freq=freq,\n",
    ")\n",
    "compiled_single_cw_spect_exp = session.compile(single_cw)\n",
    "cw_spectroscopy_results = session.run(compiled_single_cw_spect_exp)"
   ]
  },
  {
   "cell_type": "code",
   "execution_count": null,
   "metadata": {},
   "outputs": [],
   "source": [
    "plot_results(cw_spectroscopy_results)"
   ]
  },
  {
   "cell_type": "code",
   "execution_count": null,
   "metadata": {},
   "outputs": [],
   "source": [
    "analyze_qspec(res=cw_spectroscopy_results, handle=\"resonator_spectroscopy_q0\")"
   ]
  },
  {
   "cell_type": "code",
   "execution_count": null,
   "metadata": {},
   "outputs": [],
   "source": [
    "first_readout_res = 7.0e9 + 30430430"
   ]
  },
  {
   "cell_type": "code",
   "execution_count": null,
   "metadata": {},
   "outputs": [],
   "source": [
    "qubit_parameters[\"qubits\"][\"q0\"][\"readout_resonator_frequency\"][\n",
    "    \"value\"\n",
    "] = first_readout_res\n",
    "\n",
    "transmon_list = update_qubit_parameters_and_calibration(\n",
    "    qubit_parameters, demo_setup, demo_setup_db\n",
    ")"
   ]
  },
  {
   "cell_type": "markdown",
   "metadata": {},
   "source": [
    "## Spectroscopy vs Power - \"Punchout\""
   ]
  },
  {
   "cell_type": "code",
   "execution_count": null,
   "metadata": {},
   "outputs": [],
   "source": [
    "freq_upper = (\n",
    "    transmon_list[0].parameters.readout_resonator_frequency\n",
    "    - transmon_list[0].parameters.readout_lo_frequency\n",
    "    + 50e6\n",
    ")\n",
    "freq_lower = (\n",
    "    transmon_list[0].parameters.readout_resonator_frequency\n",
    "    - transmon_list[0].parameters.readout_lo_frequency\n",
    "    - 50e6\n",
    ")\n",
    "\n",
    "amp_sweep = SweepParameter(\n",
    "    uid=\"amp_sweep2\",\n",
    "    values=np.logspace(start=np.log10(0.001), stop=np.log10(1), num=21),\n",
    ")\n",
    "\n",
    "punchout = res_spectroscopy_pulsed_amp_sweep(\n",
    "    qubit=transmon_list[0],\n",
    "    integration_kernel=integration_kernel,\n",
    "    readout_pulse=readout_gauss_square_pulse,\n",
    "    frequency_sweep=create_freq_sweep(\n",
    "        f\"{transmon_list[0].uid}_sweep\", freq_lower, freq_upper, 1001\n",
    "    ),\n",
    "    amplitude_sweep=amp_sweep,\n",
    "    num_averages=2**10,\n",
    "    measure_range=-25,\n",
    "    acquire_range=-5,\n",
    ")\n",
    "\n",
    "comp_punchout = session.compile(punchout)\n",
    "punchout_result = session.run(comp_punchout)"
   ]
  },
  {
   "cell_type": "code",
   "execution_count": null,
   "metadata": {},
   "outputs": [],
   "source": [
    "plot_results(punchout_result)"
   ]
  },
  {
   "cell_type": "code",
   "execution_count": null,
   "metadata": {},
   "outputs": [],
   "source": [
    "save_results(\n",
    "    demo_results_db,\n",
    "    punchout_result,\n",
    "    \"punchout\",\n",
    "    \"neg_25_meas_neg_5_acq_range\",\n",
    ")"
   ]
  },
  {
   "cell_type": "code",
   "execution_count": null,
   "metadata": {},
   "outputs": [],
   "source": [
    "qubit_parameters[\"multiplex_readout\"][\"readout_amplitude\"][\"value\"] = 0.55\n",
    "\n",
    "transmon_list = update_qubit_parameters_and_calibration(\n",
    "    qubit_parameters, demo_setup, demo_setup_db\n",
    ")"
   ]
  },
  {
   "cell_type": "markdown",
   "metadata": {},
   "source": [
    "## Continue with your tune-up experiments:\n",
    "\n",
    "* Qubit Spec\n",
    "* Rabi\n",
    "* Ramsey\n",
    "* T1\n",
    "* Hahn Echo\n",
    "\n",
    "What's after that? There are many ways to go once you have done the basics:\n",
    "\n",
    "* Drag pulse tune-up\n",
    "* Single shot readout\n",
    "* Active reset\n",
    "* f-level tune-up\n",
    "* Two qubit gates\n",
    "* Tomography\n",
    "* RB"
   ]
  }
 ],
 "metadata": {
  "kernelspec": {
   "display_name": "ZI_LabOneQ_2p11",
   "language": "python",
   "name": "python3"
  },
  "language_info": {
   "codemirror_mode": {
    "name": "ipython",
    "version": 3
   },
   "file_extension": ".py",
   "mimetype": "text/x-python",
   "name": "python",
   "nbconvert_exporter": "python",
   "pygments_lexer": "ipython3",
   "version": "3.11.4"
  },
  "orig_nbformat": 4
 },
 "nbformat": 4,
 "nbformat_minor": 2
}
